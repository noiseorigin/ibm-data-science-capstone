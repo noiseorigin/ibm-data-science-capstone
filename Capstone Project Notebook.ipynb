{
 "cells": [
  {
   "cell_type": "code",
   "execution_count": 9,
   "metadata": {},
   "outputs": [],
   "source": [
    "import pandas as pd\n",
    "import numpy as np\n",
    "from bs4 import BeautifulSoup\n",
    "import requests\n",
    "import csv"
   ]
  },
  {
   "cell_type": "code",
   "execution_count": 3,
   "metadata": {},
   "outputs": [
    {
     "name": "stdout",
     "output_type": "stream",
     "text": [
      "Hello Capstone Project Course!\n"
     ]
    }
   ],
   "source": [
    "print(\"Hello Capstone Project Course!\")"
   ]
  },
  {
   "cell_type": "code",
   "execution_count": 20,
   "metadata": {},
   "outputs": [],
   "source": [
    "import urllib.request\n",
    "\n",
    "url = 'https://en.wikipedia.org/wiki/List_of_postal_codes_of_Canada:_M'\n",
    "req = urllib.request.urlopen(url)\n",
    "article = req.read().decode()\n",
    "\n",
    "with open('List_of_postal_codes_of_Canada.html', 'w') as fo:\n",
    "    fo.write(article)\n",
    "    "
   ]
  },
  {
   "cell_type": "code",
   "execution_count": 47,
   "metadata": {},
   "outputs": [],
   "source": [
    "from bs4 import BeautifulSoup\n",
    "\n",
    "# Load article, turn into soup and get the <table>s.\n",
    "article = open('List_of_postal_codes_of_Canada.html').read()\n",
    "soup = BeautifulSoup(article, 'html.parser')\n",
    "tables = soup.find_all('table', class_='sortable')\n",
    "\n",
    "# Search through the tables for the one with the headings we want.\n",
    "for table in tables:\n",
    "    ths = table.find_all('th')\n",
    "    headings = [th.text.strip() for th in ths]\n",
    "    if headings[:3] == ['Postcode', 'Borough', 'Neighbourhood']:\n",
    "        break\n",
    "\n",
    "# Extract the columns we want and write to a semicolon-delimited text file.\n",
    "with open('List_of_postal_codes_of_Canada.csv', 'w') as fo:\n",
    "    for tr in table.find_all('tr'):\n",
    "        tds = tr.find_all('td')\n",
    "        if not tds:\n",
    "            continue\n",
    "        postcode, borough, neighbourhood = [td.text.strip() for td in tds[:3]]\n",
    "        print(', '.join([postcode, borough, neighbourhood]), file=fo)"
   ]
  },
  {
   "cell_type": "code",
   "execution_count": 66,
   "metadata": {},
   "outputs": [
    {
     "data": {
      "text/plain": [
       "(287, 3)"
      ]
     },
     "execution_count": 66,
     "metadata": {},
     "output_type": "execute_result"
    }
   ],
   "source": [
    "colnames=['Postcode', 'Borough', 'Neighbourhood']\n",
    "df = pd.read_csv('List_of_postal_codes_of_Canada.csv',names=colnames)\n",
    "df['Borough']=df['Borough'].str.strip()\n",
    "df['Neighbourhood'] = df['Neighbourhood'].str.strip()\n",
    "df.shape"
   ]
  },
  {
   "cell_type": "markdown",
   "metadata": {},
   "source": [
    "Only process the cells that have an assigned borough. Ignore cells with a borough that is Not assigned.\n"
   ]
  },
  {
   "cell_type": "code",
   "execution_count": 64,
   "metadata": {},
   "outputs": [
    {
     "data": {
      "text/html": [
       "<div>\n",
       "<style scoped>\n",
       "    .dataframe tbody tr th:only-of-type {\n",
       "        vertical-align: middle;\n",
       "    }\n",
       "\n",
       "    .dataframe tbody tr th {\n",
       "        vertical-align: top;\n",
       "    }\n",
       "\n",
       "    .dataframe thead th {\n",
       "        text-align: right;\n",
       "    }\n",
       "</style>\n",
       "<table border=\"1\" class=\"dataframe\">\n",
       "  <thead>\n",
       "    <tr style=\"text-align: right;\">\n",
       "      <th></th>\n",
       "      <th>Postcode</th>\n",
       "      <th>Borough</th>\n",
       "      <th>Neighbourhood</th>\n",
       "    </tr>\n",
       "  </thead>\n",
       "  <tbody>\n",
       "    <tr>\n",
       "      <th>2</th>\n",
       "      <td>M3A</td>\n",
       "      <td>North York</td>\n",
       "      <td>Parkwoods</td>\n",
       "    </tr>\n",
       "    <tr>\n",
       "      <th>3</th>\n",
       "      <td>M4A</td>\n",
       "      <td>North York</td>\n",
       "      <td>Victoria Village</td>\n",
       "    </tr>\n",
       "    <tr>\n",
       "      <th>4</th>\n",
       "      <td>M5A</td>\n",
       "      <td>Downtown Toronto</td>\n",
       "      <td>Harbourfront</td>\n",
       "    </tr>\n",
       "    <tr>\n",
       "      <th>5</th>\n",
       "      <td>M6A</td>\n",
       "      <td>North York</td>\n",
       "      <td>Lawrence Heights</td>\n",
       "    </tr>\n",
       "    <tr>\n",
       "      <th>6</th>\n",
       "      <td>M6A</td>\n",
       "      <td>North York</td>\n",
       "      <td>Lawrence Manor</td>\n",
       "    </tr>\n",
       "  </tbody>\n",
       "</table>\n",
       "</div>"
      ],
      "text/plain": [
       "  Postcode           Borough     Neighbourhood\n",
       "2      M3A        North York         Parkwoods\n",
       "3      M4A        North York  Victoria Village\n",
       "4      M5A  Downtown Toronto      Harbourfront\n",
       "5      M6A        North York  Lawrence Heights\n",
       "6      M6A        North York    Lawrence Manor"
      ]
     },
     "execution_count": 64,
     "metadata": {},
     "output_type": "execute_result"
    }
   ],
   "source": [
    "df1 = df[df['Borough'] != 'Not assigned']\n",
    "df1.head()"
   ]
  },
  {
   "cell_type": "code",
   "execution_count": 65,
   "metadata": {},
   "outputs": [
    {
     "data": {
      "text/plain": [
       "(210, 3)"
      ]
     },
     "execution_count": 65,
     "metadata": {},
     "output_type": "execute_result"
    }
   ],
   "source": [
    "df1.shape"
   ]
  },
  {
   "cell_type": "markdown",
   "metadata": {},
   "source": [
    "More than one neighborhood can exist in one postal code area. For example, in the table on the Wikipedia page, you will notice that M5A is listed twice and has two neighborhoods: Harbourfront and Regent Park. These two rows will be combined into one row with the neighborhoods separated with a comma as shown in row 11 in the above table."
   ]
  },
  {
   "cell_type": "code",
   "execution_count": 71,
   "metadata": {},
   "outputs": [
    {
     "data": {
      "text/html": [
       "<div>\n",
       "<style scoped>\n",
       "    .dataframe tbody tr th:only-of-type {\n",
       "        vertical-align: middle;\n",
       "    }\n",
       "\n",
       "    .dataframe tbody tr th {\n",
       "        vertical-align: top;\n",
       "    }\n",
       "\n",
       "    .dataframe thead th {\n",
       "        text-align: right;\n",
       "    }\n",
       "</style>\n",
       "<table border=\"1\" class=\"dataframe\">\n",
       "  <thead>\n",
       "    <tr style=\"text-align: right;\">\n",
       "      <th></th>\n",
       "      <th>Postcode</th>\n",
       "      <th>Borough</th>\n",
       "      <th>Neighbourhood</th>\n",
       "    </tr>\n",
       "  </thead>\n",
       "  <tbody>\n",
       "    <tr>\n",
       "      <th>0</th>\n",
       "      <td>M1B</td>\n",
       "      <td>Scarborough</td>\n",
       "      <td>Rouge,Malvern</td>\n",
       "    </tr>\n",
       "    <tr>\n",
       "      <th>1</th>\n",
       "      <td>M1C</td>\n",
       "      <td>Scarborough</td>\n",
       "      <td>Highland Creek,Rouge Hill,Port Union</td>\n",
       "    </tr>\n",
       "    <tr>\n",
       "      <th>2</th>\n",
       "      <td>M1E</td>\n",
       "      <td>Scarborough</td>\n",
       "      <td>Guildwood,Morningside,West Hill</td>\n",
       "    </tr>\n",
       "    <tr>\n",
       "      <th>3</th>\n",
       "      <td>M1G</td>\n",
       "      <td>Scarborough</td>\n",
       "      <td>Woburn</td>\n",
       "    </tr>\n",
       "    <tr>\n",
       "      <th>4</th>\n",
       "      <td>M1H</td>\n",
       "      <td>Scarborough</td>\n",
       "      <td>Cedarbrae</td>\n",
       "    </tr>\n",
       "  </tbody>\n",
       "</table>\n",
       "</div>"
      ],
      "text/plain": [
       "  Postcode      Borough                         Neighbourhood\n",
       "0      M1B  Scarborough                         Rouge,Malvern\n",
       "1      M1C  Scarborough  Highland Creek,Rouge Hill,Port Union\n",
       "2      M1E  Scarborough       Guildwood,Morningside,West Hill\n",
       "3      M1G  Scarborough                                Woburn\n",
       "4      M1H  Scarborough                             Cedarbrae"
      ]
     },
     "execution_count": 71,
     "metadata": {},
     "output_type": "execute_result"
    }
   ],
   "source": [
    "df2=df1.groupby(['Postcode','Borough'])['Neighbourhood'].apply(','.join).reset_index()\n",
    "df2.head()"
   ]
  },
  {
   "cell_type": "markdown",
   "metadata": {},
   "source": [
    "If a cell has a borough but a Not assigned neighborhood, then the neighborhood will be the same as the borough.\n",
    "\n"
   ]
  },
  {
   "cell_type": "code",
   "execution_count": 73,
   "metadata": {},
   "outputs": [
    {
     "data": {
      "text/plain": [
       "0"
      ]
     },
     "execution_count": 73,
     "metadata": {},
     "output_type": "execute_result"
    }
   ],
   "source": [
    "df2.Neighbourhood.loc[df2.Neighbourhood=='Not assigned']=df2.Borough\n",
    "len(df2[df2.Neighbourhood=='Not assigned'])"
   ]
  },
  {
   "cell_type": "code",
   "execution_count": 74,
   "metadata": {},
   "outputs": [
    {
     "data": {
      "text/plain": [
       "(103, 3)"
      ]
     },
     "execution_count": 74,
     "metadata": {},
     "output_type": "execute_result"
    }
   ],
   "source": [
    "df2.shape"
   ]
  },
  {
   "cell_type": "code",
   "execution_count": 87,
   "metadata": {},
   "outputs": [],
   "source": [
    "from arcgis.geocoding import geocode\n"
   ]
  },
  {
   "cell_type": "code",
   "execution_count": 107,
   "metadata": {},
   "outputs": [],
   "source": [
    "g = geocoder.arcgis('{}, Toronto, Ontario'.format('M1B')) "
   ]
  },
  {
   "cell_type": "code",
   "execution_count": 108,
   "metadata": {},
   "outputs": [
    {
     "data": {
      "text/plain": [
       "(43.811525000000074, -79.19551746399998)"
      ]
     },
     "execution_count": 108,
     "metadata": {},
     "output_type": "execute_result"
    }
   ],
   "source": [
    "(g.lat,g.lng)"
   ]
  },
  {
   "cell_type": "code",
   "execution_count": 112,
   "metadata": {},
   "outputs": [
    {
     "name": "stdout",
     "output_type": "stream",
     "text": [
      "43.811525000000074 -79.19551746399998\n",
      "43.78566500000005 -79.15872457299997\n",
      "43.76581500000003 -79.17519294699997\n",
      "43.768369121000035 -79.21758999999997\n",
      "43.76968799900004 -79.23943999999995\n",
      "43.74312500000008 -79.23174973599998\n",
      "43.72627568400003 -79.26362499999993\n",
      "43.71305350000006 -79.28505499999994\n",
      "43.724234575000025 -79.22792499999997\n",
      "43.69677000000007 -79.25996735299998\n",
      "43.759975000000054 -79.26897418299995\n",
      "43.750710464000065 -79.30055999999996\n",
      "43.79394000000008 -79.26797613999997\n",
      "43.78472500000004 -79.29906603299997\n",
      "43.81768500000004 -79.28018721399997\n",
      "43.80088292800008 -79.32073999999994\n",
      "43.83421500000003 -79.21670085099998\n",
      "43.80284500000005 -79.35620744999994\n",
      "43.780970000000025 -79.34781328099996\n",
      "43.781015000000025 -79.38052867199997\n",
      "43.75709511900004 -79.38031999999998\n",
      "43.79147500000005 -79.41360487299994\n",
      "43.76816500000007 -79.40741984599998\n",
      "43.74789500000003 -79.39991893899997\n",
      "43.77769500000005 -79.44579657299994\n",
      "43.75242000000003 -79.32924245299995\n"
     ]
    },
    {
     "name": "stderr",
     "output_type": "stream",
     "text": [
      "Status code Unknown from https://geocode.arcgis.com/arcgis/rest/services/World/GeocodeServer/find: ERROR - HTTPSConnectionPool(host='geocode.arcgis.com', port=443): Max retries exceeded with url: /arcgis/rest/services/World/GeocodeServer/find?f=json&text=M3B%2CToronto%2C+Ontario%2C+Canada&maxLocations=1 (Caused by ProxyError('Cannot connect to proxy.', timeout('_ssl.c:1059: The handshake operation timed out')))\n"
     ]
    },
    {
     "name": "stdout",
     "output_type": "stream",
     "text": [
      "None None\n",
      "43.72142500000007 -79.34345422799998\n",
      "43.75787500000007 -79.44868764799998\n",
      "43.76476500000007 -79.48809440699995\n",
      "43.73868500000003 -79.46731999999997\n"
     ]
    },
    {
     "name": "stderr",
     "output_type": "stream",
     "text": [
      "Status code Unknown from https://geocode.arcgis.com/arcgis/rest/services/World/GeocodeServer/find: ERROR - HTTPSConnectionPool(host='geocode.arcgis.com', port=443): Max retries exceeded with url: /arcgis/rest/services/World/GeocodeServer/find?f=json&text=M3L%2CToronto%2C+Ontario%2C+Canada&maxLocations=1 (Caused by ProxyError('Cannot connect to proxy.', timeout('_ssl.c:1059: The handshake operation timed out')))\n"
     ]
    },
    {
     "name": "stdout",
     "output_type": "stream",
     "text": [
      "None None\n",
      "43.73369000000008 -79.49674024199999\n",
      "43.75537065200007 -79.51958999999994\n",
      "43.73060024600005 -79.31326499999994\n",
      "43.707535000000064 -79.31177329699995\n",
      "43.689640000000054 -79.30687387799998\n",
      "43.67653121600006 -79.29542499999997\n",
      "43.70949500000006 -79.36398897099997\n",
      "43.70124000000004 -79.34982482599997\n",
      "43.688765344000046 -79.33417499999996\n",
      "43.68317787500007 -79.35510499999998\n",
      "43.66796500000004 -79.31466717299998\n",
      "43.660628993000046 -79.33485499999995\n",
      "43.72842000000003 -79.38713269199997\n",
      "43.71275500000007 -79.38851449699996\n"
     ]
    },
    {
     "name": "stderr",
     "output_type": "stream",
     "text": [
      "Status code Unknown from https://geocode.arcgis.com/arcgis/rest/services/World/GeocodeServer/find: ERROR - HTTPSConnectionPool(host='geocode.arcgis.com', port=443): Max retries exceeded with url: /arcgis/rest/services/World/GeocodeServer/find?f=json&text=M4R%2CToronto%2C+Ontario%2C+Canada&maxLocations=1 (Caused by ProxyError('Cannot connect to proxy.', timeout('_ssl.c:1059: The handshake operation timed out')))\n"
     ]
    },
    {
     "name": "stdout",
     "output_type": "stream",
     "text": [
      "None None\n",
      "43.70339500000006 -79.38596360499997\n",
      "43.69068500000003 -79.38294574299994\n"
     ]
    },
    {
     "name": "stderr",
     "output_type": "stream",
     "text": [
      "Status code Unknown from https://geocode.arcgis.com/arcgis/rest/services/World/GeocodeServer/find: ERROR - HTTPSConnectionPool(host='geocode.arcgis.com', port=443): Max retries exceeded with url: /arcgis/rest/services/World/GeocodeServer/find?f=json&text=M4V%2CToronto%2C+Ontario%2C+Canada&maxLocations=1 (Caused by ProxyError('Cannot connect to proxy.', timeout('_ssl.c:1059: The handshake operation timed out')))\n"
     ]
    },
    {
     "name": "stdout",
     "output_type": "stream",
     "text": [
      "None None\n"
     ]
    },
    {
     "name": "stderr",
     "output_type": "stream",
     "text": [
      "Status code Unknown from https://geocode.arcgis.com/arcgis/rest/services/World/GeocodeServer/find: ERROR - HTTPSConnectionPool(host='geocode.arcgis.com', port=443): Max retries exceeded with url: /arcgis/rest/services/World/GeocodeServer/find?f=json&text=M4W%2CToronto%2C+Ontario%2C+Canada&maxLocations=1 (Caused by ProxyError('Cannot connect to proxy.', timeout('_ssl.c:1059: The handshake operation timed out')))\n"
     ]
    },
    {
     "name": "stdout",
     "output_type": "stream",
     "text": [
      "None None\n",
      "43.66816000000006 -79.36660236199998\n",
      "43.666585000000055 -79.38130203699995\n",
      "43.65029500000003 -79.35916572299999\n",
      "43.65736301100003 -79.37817999999999\n"
     ]
    },
    {
     "name": "stderr",
     "output_type": "stream",
     "text": [
      "Status code Unknown from https://geocode.arcgis.com/arcgis/rest/services/World/GeocodeServer/find: ERROR - HTTPSConnectionPool(host='geocode.arcgis.com', port=443): Max retries exceeded with url: /arcgis/rest/services/World/GeocodeServer/find?f=json&text=M5C%2CToronto%2C+Ontario%2C+Canada&maxLocations=1 (Caused by ProxyError('Cannot connect to proxy.', timeout('_ssl.c:1059: The handshake operation timed out')))\n"
     ]
    },
    {
     "name": "stdout",
     "output_type": "stream",
     "text": [
      "None None\n",
      "43.64516015600003 -79.37367499999993\n",
      "43.65609081300005 -79.38492999999994\n",
      "43.64970000000005 -79.38258157399997\n",
      "43.630210000000034 -79.36243320899996\n",
      "43.64710000000008 -79.38153109899997\n",
      "43.64839500000005 -79.37886491099994\n",
      "43.735460000000046 -79.41914787599995\n",
      "43.711941154000044 -79.41911999999996\n",
      "43.69478500000008 -79.41440483299994\n",
      "43.674840000000074 -79.40376823999998\n",
      "43.663110000000074 -79.40180056699995\n",
      "43.653530000000046 -79.39723268299997\n",
      "43.64081500000003 -79.39953781899999\n",
      "43.648690000000045 -79.38543999999996\n",
      "43.64828000000006 -79.38146082599997\n",
      "43.72327000000007 -79.45128601699997\n",
      "43.70799000000005 -79.44836733199998\n",
      "43.69210517800008 -79.43035499999996\n",
      "43.68864000000008 -79.45101761399997\n",
      "43.66878132800008 -79.42070999999999\n",
      "43.66508694300006 -79.43870499999997\n",
      "43.64852500000006 -79.41775713399994\n",
      "43.639410000000055 -79.42436201999999\n",
      "43.71381000000008 -79.48830076899998\n"
     ]
    },
    {
     "name": "stderr",
     "output_type": "stream",
     "text": [
      "Status code Unknown from https://geocode.arcgis.com/arcgis/rest/services/World/GeocodeServer/find: ERROR - HTTPSConnectionPool(host='geocode.arcgis.com', port=443): Max retries exceeded with url: /arcgis/rest/services/World/GeocodeServer/find?f=json&text=M6M%2CToronto%2C+Ontario%2C+Canada&maxLocations=1 (Caused by ProxyError('Cannot connect to proxy.', timeout('_ssl.c:1059: The handshake operation timed out')))\n"
     ]
    },
    {
     "name": "stdout",
     "output_type": "stream",
     "text": [
      "None None\n",
      "43.67612500000007 -79.48193234099995\n",
      "43.659935000000075 -79.46301926299998\n",
      "43.64787000000007 -79.44977619099996\n",
      "43.64962000000003 -79.47614085899994\n",
      "43.66115033500006 -79.39171499999998\n",
      "43.648690000000045 -79.38543999999996\n",
      "43.648690000000045 -79.38543999999996\n",
      "43.61220000000003 -79.49514569099995\n",
      "43.60113082100003 -79.53878499999996\n",
      "43.653760000000034 -79.51089004199997\n",
      "43.63283500000006 -79.48955044599995\n",
      "43.624630000000025 -79.52694976199996\n",
      "43.66229908300005 -79.52819499999998\n",
      "43.65034698100004 -79.55503999999996\n",
      "43.648573449000025 -79.57824999999997\n",
      "43.75950000000006 -79.55702785699998\n",
      "43.73370500000004 -79.53750768599997\n"
     ]
    },
    {
     "name": "stderr",
     "output_type": "stream",
     "text": [
      "Status code Unknown from https://geocode.arcgis.com/arcgis/rest/services/World/GeocodeServer/find: ERROR - HTTPSConnectionPool(host='geocode.arcgis.com', port=443): Max retries exceeded with url: /arcgis/rest/services/World/GeocodeServer/find?f=json&text=M9N%2CToronto%2C+Ontario%2C+Canada&maxLocations=1 (Caused by ProxyError('Cannot connect to proxy.', timeout('_ssl.c:1059: The handshake operation timed out')))\n"
     ]
    },
    {
     "name": "stdout",
     "output_type": "stream",
     "text": [
      "None None\n",
      "43.69650500000006 -79.53025233799997\n",
      "43.68681000000004 -79.55728354099995\n"
     ]
    },
    {
     "name": "stderr",
     "output_type": "stream",
     "text": [
      "Status code Unknown from https://geocode.arcgis.com/arcgis/rest/services/World/GeocodeServer/find: ERROR - HTTPSConnectionPool(host='geocode.arcgis.com', port=443): Max retries exceeded with url: /arcgis/rest/services/World/GeocodeServer/find?f=json&text=M9V%2CToronto%2C+Ontario%2C+Canada&maxLocations=1 (Caused by ProxyError('Cannot connect to proxy.', timeout('_ssl.c:1059: The handshake operation timed out')))\n"
     ]
    },
    {
     "name": "stdout",
     "output_type": "stream",
     "text": [
      "None None\n",
      "43.71174000000008 -79.57918134599998\n"
     ]
    },
    {
     "data": {
      "text/plain": [
       "{'M1B': [43.811525000000074, -79.19551746399998],\n",
       " 'M1C': [43.78566500000005, -79.15872457299997],\n",
       " 'M1E': [43.76581500000003, -79.17519294699997],\n",
       " 'M1G': [43.768369121000035, -79.21758999999997],\n",
       " 'M1H': [43.76968799900004, -79.23943999999995],\n",
       " 'M1J': [43.74312500000008, -79.23174973599998],\n",
       " 'M1K': [43.72627568400003, -79.26362499999993],\n",
       " 'M1L': [43.71305350000006, -79.28505499999994],\n",
       " 'M1M': [43.724234575000025, -79.22792499999997],\n",
       " 'M1N': [43.69677000000007, -79.25996735299998],\n",
       " 'M1P': [43.759975000000054, -79.26897418299995],\n",
       " 'M1R': [43.750710464000065, -79.30055999999996],\n",
       " 'M1S': [43.79394000000008, -79.26797613999997],\n",
       " 'M1T': [43.78472500000004, -79.29906603299997],\n",
       " 'M1V': [43.81768500000004, -79.28018721399997],\n",
       " 'M1W': [43.80088292800008, -79.32073999999994],\n",
       " 'M1X': [43.83421500000003, -79.21670085099998],\n",
       " 'M2H': [43.80284500000005, -79.35620744999994],\n",
       " 'M2J': [43.780970000000025, -79.34781328099996],\n",
       " 'M2K': [43.781015000000025, -79.38052867199997],\n",
       " 'M2L': [43.75709511900004, -79.38031999999998],\n",
       " 'M2M': [43.79147500000005, -79.41360487299994],\n",
       " 'M2N': [43.76816500000007, -79.40741984599998],\n",
       " 'M2P': [43.74789500000003, -79.39991893899997],\n",
       " 'M2R': [43.77769500000005, -79.44579657299994],\n",
       " 'M3A': [43.75242000000003, -79.32924245299995],\n",
       " 'M3B': [None, None],\n",
       " 'M3C': [43.72142500000007, -79.34345422799998],\n",
       " 'M3H': [43.75787500000007, -79.44868764799998],\n",
       " 'M3J': [43.76476500000007, -79.48809440699995],\n",
       " 'M3K': [43.73868500000003, -79.46731999999997],\n",
       " 'M3L': [None, None],\n",
       " 'M3M': [43.73369000000008, -79.49674024199999],\n",
       " 'M3N': [43.75537065200007, -79.51958999999994],\n",
       " 'M4A': [43.73060024600005, -79.31326499999994],\n",
       " 'M4B': [43.707535000000064, -79.31177329699995],\n",
       " 'M4C': [43.689640000000054, -79.30687387799998],\n",
       " 'M4E': [43.67653121600006, -79.29542499999997],\n",
       " 'M4G': [43.70949500000006, -79.36398897099997],\n",
       " 'M4H': [43.70124000000004, -79.34982482599997],\n",
       " 'M4J': [43.688765344000046, -79.33417499999996],\n",
       " 'M4K': [43.68317787500007, -79.35510499999998],\n",
       " 'M4L': [43.66796500000004, -79.31466717299998],\n",
       " 'M4M': [43.660628993000046, -79.33485499999995],\n",
       " 'M4N': [43.72842000000003, -79.38713269199997],\n",
       " 'M4P': [43.71275500000007, -79.38851449699996],\n",
       " 'M4R': [None, None],\n",
       " 'M4S': [43.70339500000006, -79.38596360499997],\n",
       " 'M4T': [43.69068500000003, -79.38294574299994],\n",
       " 'M4V': [None, None],\n",
       " 'M4W': [None, None],\n",
       " 'M4X': [43.66816000000006, -79.36660236199998],\n",
       " 'M4Y': [43.666585000000055, -79.38130203699995],\n",
       " 'M5A': [43.65029500000003, -79.35916572299999],\n",
       " 'M5B': [43.65736301100003, -79.37817999999999],\n",
       " 'M5C': [None, None],\n",
       " 'M5E': [43.64516015600003, -79.37367499999993],\n",
       " 'M5G': [43.65609081300005, -79.38492999999994],\n",
       " 'M5H': [43.64970000000005, -79.38258157399997],\n",
       " 'M5J': [43.630210000000034, -79.36243320899996],\n",
       " 'M5K': [43.64710000000008, -79.38153109899997],\n",
       " 'M5L': [43.64839500000005, -79.37886491099994],\n",
       " 'M5M': [43.735460000000046, -79.41914787599995],\n",
       " 'M5N': [43.711941154000044, -79.41911999999996],\n",
       " 'M5P': [43.69478500000008, -79.41440483299994],\n",
       " 'M5R': [43.674840000000074, -79.40376823999998],\n",
       " 'M5S': [43.663110000000074, -79.40180056699995],\n",
       " 'M5T': [43.653530000000046, -79.39723268299997],\n",
       " 'M5V': [43.64081500000003, -79.39953781899999],\n",
       " 'M5W': [43.648690000000045, -79.38543999999996],\n",
       " 'M5X': [43.64828000000006, -79.38146082599997],\n",
       " 'M6A': [43.72327000000007, -79.45128601699997],\n",
       " 'M6B': [43.70799000000005, -79.44836733199998],\n",
       " 'M6C': [43.69210517800008, -79.43035499999996],\n",
       " 'M6E': [43.68864000000008, -79.45101761399997],\n",
       " 'M6G': [43.66878132800008, -79.42070999999999],\n",
       " 'M6H': [43.66508694300006, -79.43870499999997],\n",
       " 'M6J': [43.64852500000006, -79.41775713399994],\n",
       " 'M6K': [43.639410000000055, -79.42436201999999],\n",
       " 'M6L': [43.71381000000008, -79.48830076899998],\n",
       " 'M6M': [None, None],\n",
       " 'M6N': [43.67612500000007, -79.48193234099995],\n",
       " 'M6P': [43.659935000000075, -79.46301926299998],\n",
       " 'M6R': [43.64787000000007, -79.44977619099996],\n",
       " 'M6S': [43.64962000000003, -79.47614085899994],\n",
       " 'M7A': [43.66115033500006, -79.39171499999998],\n",
       " 'M7R': [43.648690000000045, -79.38543999999996],\n",
       " 'M7Y': [43.648690000000045, -79.38543999999996],\n",
       " 'M8V': [43.61220000000003, -79.49514569099995],\n",
       " 'M8W': [43.60113082100003, -79.53878499999996],\n",
       " 'M8X': [43.653760000000034, -79.51089004199997],\n",
       " 'M8Y': [43.63283500000006, -79.48955044599995],\n",
       " 'M8Z': [43.624630000000025, -79.52694976199996],\n",
       " 'M9A': [43.66229908300005, -79.52819499999998],\n",
       " 'M9B': [43.65034698100004, -79.55503999999996],\n",
       " 'M9C': [43.648573449000025, -79.57824999999997],\n",
       " 'M9L': [43.75950000000006, -79.55702785699998],\n",
       " 'M9M': [43.73370500000004, -79.53750768599997],\n",
       " 'M9N': [None, None],\n",
       " 'M9P': [43.69650500000006, -79.53025233799997],\n",
       " 'M9R': [43.68681000000004, -79.55728354099995],\n",
       " 'M9V': [None, None],\n",
       " 'M9W': [43.71174000000008, -79.57918134599998]}"
      ]
     },
     "execution_count": 112,
     "metadata": {},
     "output_type": "execute_result"
    }
   ],
   "source": [
    "import time\n",
    "start = time.time()\n",
    "adict={}\n",
    "\n",
    "for i in df2.Postcode:\n",
    "    g = geocoder.arcgis('{},Toronto, Ontario, Canada'.format(i))    \n",
    "    adict[i]=[g.lat, g.lng]\n",
    "    print(g.lat, g.lng)\n",
    "adict"
   ]
  },
  {
   "cell_type": "code",
   "execution_count": 136,
   "metadata": {},
   "outputs": [],
   "source": [
    "latlng=pd.DataFrame.from_dict(adict,orient='index').reset_index()\n",
    "latlng.columns=['Postcode','Latitude','Longitude']"
   ]
  },
  {
   "cell_type": "code",
   "execution_count": 137,
   "metadata": {},
   "outputs": [
    {
     "data": {
      "text/html": [
       "<div>\n",
       "<style scoped>\n",
       "    .dataframe tbody tr th:only-of-type {\n",
       "        vertical-align: middle;\n",
       "    }\n",
       "\n",
       "    .dataframe tbody tr th {\n",
       "        vertical-align: top;\n",
       "    }\n",
       "\n",
       "    .dataframe thead th {\n",
       "        text-align: right;\n",
       "    }\n",
       "</style>\n",
       "<table border=\"1\" class=\"dataframe\">\n",
       "  <thead>\n",
       "    <tr style=\"text-align: right;\">\n",
       "      <th></th>\n",
       "      <th>Postcode</th>\n",
       "      <th>Latitude</th>\n",
       "      <th>Longitude</th>\n",
       "    </tr>\n",
       "  </thead>\n",
       "  <tbody>\n",
       "    <tr>\n",
       "      <th>0</th>\n",
       "      <td>M1B</td>\n",
       "      <td>43.811525</td>\n",
       "      <td>-79.195517</td>\n",
       "    </tr>\n",
       "    <tr>\n",
       "      <th>1</th>\n",
       "      <td>M1C</td>\n",
       "      <td>43.785665</td>\n",
       "      <td>-79.158725</td>\n",
       "    </tr>\n",
       "    <tr>\n",
       "      <th>2</th>\n",
       "      <td>M1E</td>\n",
       "      <td>43.765815</td>\n",
       "      <td>-79.175193</td>\n",
       "    </tr>\n",
       "    <tr>\n",
       "      <th>3</th>\n",
       "      <td>M1G</td>\n",
       "      <td>43.768369</td>\n",
       "      <td>-79.217590</td>\n",
       "    </tr>\n",
       "    <tr>\n",
       "      <th>4</th>\n",
       "      <td>M1H</td>\n",
       "      <td>43.769688</td>\n",
       "      <td>-79.239440</td>\n",
       "    </tr>\n",
       "  </tbody>\n",
       "</table>\n",
       "</div>"
      ],
      "text/plain": [
       "  Postcode   Latitude  Longitude\n",
       "0      M1B  43.811525 -79.195517\n",
       "1      M1C  43.785665 -79.158725\n",
       "2      M1E  43.765815 -79.175193\n",
       "3      M1G  43.768369 -79.217590\n",
       "4      M1H  43.769688 -79.239440"
      ]
     },
     "execution_count": 137,
     "metadata": {},
     "output_type": "execute_result"
    }
   ],
   "source": [
    "latlng.head()"
   ]
  },
  {
   "cell_type": "code",
   "execution_count": 138,
   "metadata": {},
   "outputs": [
    {
     "data": {
      "text/html": [
       "<div>\n",
       "<style scoped>\n",
       "    .dataframe tbody tr th:only-of-type {\n",
       "        vertical-align: middle;\n",
       "    }\n",
       "\n",
       "    .dataframe tbody tr th {\n",
       "        vertical-align: top;\n",
       "    }\n",
       "\n",
       "    .dataframe thead th {\n",
       "        text-align: right;\n",
       "    }\n",
       "</style>\n",
       "<table border=\"1\" class=\"dataframe\">\n",
       "  <thead>\n",
       "    <tr style=\"text-align: right;\">\n",
       "      <th></th>\n",
       "      <th>Postcode</th>\n",
       "      <th>Borough</th>\n",
       "      <th>Neighbourhood</th>\n",
       "      <th>Latitude</th>\n",
       "      <th>Longitude</th>\n",
       "    </tr>\n",
       "  </thead>\n",
       "  <tbody>\n",
       "    <tr>\n",
       "      <th>0</th>\n",
       "      <td>M1B</td>\n",
       "      <td>Scarborough</td>\n",
       "      <td>Rouge,Malvern</td>\n",
       "      <td>43.811525</td>\n",
       "      <td>-79.195517</td>\n",
       "    </tr>\n",
       "    <tr>\n",
       "      <th>1</th>\n",
       "      <td>M1C</td>\n",
       "      <td>Scarborough</td>\n",
       "      <td>Highland Creek,Rouge Hill,Port Union</td>\n",
       "      <td>43.785665</td>\n",
       "      <td>-79.158725</td>\n",
       "    </tr>\n",
       "    <tr>\n",
       "      <th>2</th>\n",
       "      <td>M1E</td>\n",
       "      <td>Scarborough</td>\n",
       "      <td>Guildwood,Morningside,West Hill</td>\n",
       "      <td>43.765815</td>\n",
       "      <td>-79.175193</td>\n",
       "    </tr>\n",
       "    <tr>\n",
       "      <th>3</th>\n",
       "      <td>M1G</td>\n",
       "      <td>Scarborough</td>\n",
       "      <td>Woburn</td>\n",
       "      <td>43.768369</td>\n",
       "      <td>-79.217590</td>\n",
       "    </tr>\n",
       "    <tr>\n",
       "      <th>4</th>\n",
       "      <td>M1H</td>\n",
       "      <td>Scarborough</td>\n",
       "      <td>Cedarbrae</td>\n",
       "      <td>43.769688</td>\n",
       "      <td>-79.239440</td>\n",
       "    </tr>\n",
       "  </tbody>\n",
       "</table>\n",
       "</div>"
      ],
      "text/plain": [
       "  Postcode      Borough                         Neighbourhood   Latitude  \\\n",
       "0      M1B  Scarborough                         Rouge,Malvern  43.811525   \n",
       "1      M1C  Scarborough  Highland Creek,Rouge Hill,Port Union  43.785665   \n",
       "2      M1E  Scarborough       Guildwood,Morningside,West Hill  43.765815   \n",
       "3      M1G  Scarborough                                Woburn  43.768369   \n",
       "4      M1H  Scarborough                             Cedarbrae  43.769688   \n",
       "\n",
       "   Longitude  \n",
       "0 -79.195517  \n",
       "1 -79.158725  \n",
       "2 -79.175193  \n",
       "3 -79.217590  \n",
       "4 -79.239440  "
      ]
     },
     "execution_count": 138,
     "metadata": {},
     "output_type": "execute_result"
    }
   ],
   "source": [
    "df3=pd.merge(df2,latlng,how='left', on=['Postcode'])\n",
    "df3.head()"
   ]
  },
  {
   "cell_type": "code",
   "execution_count": 139,
   "metadata": {},
   "outputs": [],
   "source": [
    "df3.to_csv('toronto_geo.csv')"
   ]
  },
  {
   "cell_type": "markdown",
   "metadata": {},
   "source": [
    "Explore and cluster the neighborhoods in Toronto. You can decide to work with only boroughs that contain the word Toronto and then replicate the same analysis we did to the New York City data. It is up to you."
   ]
  },
  {
   "cell_type": "code",
   "execution_count": 140,
   "metadata": {},
   "outputs": [
    {
     "data": {
      "text/plain": [
       "North York          24\n",
       "Downtown Toronto    19\n",
       "Scarborough         17\n",
       "Etobicoke           11\n",
       "Central Toronto      9\n",
       "West Toronto         6\n",
       "East York            5\n",
       "York                 5\n",
       "East Toronto         5\n",
       "Queen's Park         1\n",
       "Mississauga          1\n",
       "Name: Borough, dtype: int64"
      ]
     },
     "execution_count": 140,
     "metadata": {},
     "output_type": "execute_result"
    }
   ],
   "source": [
    "df3.Borough.value_counts()"
   ]
  },
  {
   "cell_type": "markdown",
   "metadata": {},
   "source": [
    "#### Borough Contains Toronto"
   ]
  },
  {
   "cell_type": "code",
   "execution_count": 141,
   "metadata": {},
   "outputs": [],
   "source": [
    "torontoData = df3[df3['Borough'].str.contains(\"Toronto\")]"
   ]
  },
  {
   "cell_type": "code",
   "execution_count": 142,
   "metadata": {},
   "outputs": [
    {
     "data": {
      "text/html": [
       "<div>\n",
       "<style scoped>\n",
       "    .dataframe tbody tr th:only-of-type {\n",
       "        vertical-align: middle;\n",
       "    }\n",
       "\n",
       "    .dataframe tbody tr th {\n",
       "        vertical-align: top;\n",
       "    }\n",
       "\n",
       "    .dataframe thead th {\n",
       "        text-align: right;\n",
       "    }\n",
       "</style>\n",
       "<table border=\"1\" class=\"dataframe\">\n",
       "  <thead>\n",
       "    <tr style=\"text-align: right;\">\n",
       "      <th></th>\n",
       "      <th>Postcode</th>\n",
       "      <th>Borough</th>\n",
       "      <th>Neighbourhood</th>\n",
       "      <th>Latitude</th>\n",
       "      <th>Longitude</th>\n",
       "    </tr>\n",
       "  </thead>\n",
       "  <tbody>\n",
       "    <tr>\n",
       "      <th>37</th>\n",
       "      <td>M4E</td>\n",
       "      <td>East Toronto</td>\n",
       "      <td>The Beaches</td>\n",
       "      <td>43.676531</td>\n",
       "      <td>-79.295425</td>\n",
       "    </tr>\n",
       "    <tr>\n",
       "      <th>41</th>\n",
       "      <td>M4K</td>\n",
       "      <td>East Toronto</td>\n",
       "      <td>The Danforth West,Riverdale</td>\n",
       "      <td>43.683178</td>\n",
       "      <td>-79.355105</td>\n",
       "    </tr>\n",
       "    <tr>\n",
       "      <th>42</th>\n",
       "      <td>M4L</td>\n",
       "      <td>East Toronto</td>\n",
       "      <td>The Beaches West,India Bazaar</td>\n",
       "      <td>43.667965</td>\n",
       "      <td>-79.314667</td>\n",
       "    </tr>\n",
       "    <tr>\n",
       "      <th>43</th>\n",
       "      <td>M4M</td>\n",
       "      <td>East Toronto</td>\n",
       "      <td>Studio District</td>\n",
       "      <td>43.660629</td>\n",
       "      <td>-79.334855</td>\n",
       "    </tr>\n",
       "    <tr>\n",
       "      <th>44</th>\n",
       "      <td>M4N</td>\n",
       "      <td>Central Toronto</td>\n",
       "      <td>Lawrence Park</td>\n",
       "      <td>43.728420</td>\n",
       "      <td>-79.387133</td>\n",
       "    </tr>\n",
       "  </tbody>\n",
       "</table>\n",
       "</div>"
      ],
      "text/plain": [
       "   Postcode          Borough                  Neighbourhood   Latitude  \\\n",
       "37      M4E     East Toronto                    The Beaches  43.676531   \n",
       "41      M4K     East Toronto    The Danforth West,Riverdale  43.683178   \n",
       "42      M4L     East Toronto  The Beaches West,India Bazaar  43.667965   \n",
       "43      M4M     East Toronto                Studio District  43.660629   \n",
       "44      M4N  Central Toronto                  Lawrence Park  43.728420   \n",
       "\n",
       "    Longitude  \n",
       "37 -79.295425  \n",
       "41 -79.355105  \n",
       "42 -79.314667  \n",
       "43 -79.334855  \n",
       "44 -79.387133  "
      ]
     },
     "execution_count": 142,
     "metadata": {},
     "output_type": "execute_result"
    }
   ],
   "source": [
    "torontoData.head()"
   ]
  },
  {
   "cell_type": "code",
   "execution_count": 143,
   "metadata": {},
   "outputs": [
    {
     "data": {
      "text/plain": [
       "(39, 5)"
      ]
     },
     "execution_count": 143,
     "metadata": {},
     "output_type": "execute_result"
    }
   ],
   "source": [
    "torontoData.shape"
   ]
  },
  {
   "cell_type": "markdown",
   "metadata": {},
   "source": [
    "Explore and cluster the neighborhoods in Toronto. You can decide to work with only boroughs that contain the word Toronto and then replicate the same analysis we did to the New York City data. It is up to you.\n",
    "\n",
    "Just make sure:\n",
    "\n",
    "* to add enough Markdown cells to explain what you decided to do and to report any observations you make.\n",
    "* to generate maps to visualize your neighborhoods and how they cluster together.\n",
    "Once you are happy with your analysis, submit a link to the new Notebook on your Github repository. (3 marks)"
   ]
  },
  {
   "cell_type": "code",
   "execution_count": 144,
   "metadata": {},
   "outputs": [
    {
     "name": "stdout",
     "output_type": "stream",
     "text": [
      "The dataframe has 4 boroughs and 39 neighborhoods.\n"
     ]
    }
   ],
   "source": [
    "print('The dataframe has {} boroughs and {} neighborhoods.'.format(\n",
    "        len(torontoData['Borough'].unique()),\n",
    "        torontoData.shape[0]\n",
    "    )\n",
    ")"
   ]
  },
  {
   "cell_type": "code",
   "execution_count": 154,
   "metadata": {},
   "outputs": [
    {
     "name": "stdout",
     "output_type": "stream",
     "text": [
      "The geograpical coordinate of Toronto, Ontario, Canada are 43.648690000000045, -79.38543999999996.\n"
     ]
    }
   ],
   "source": [
    "location = geocoder.arcgis('Toronto, Ontario, Canada') \n",
    "address_tr = 'Toronto, Ontario, Canada'\n",
    "location.json\n",
    "latitude_tr = location.lat\n",
    "longitude_tr = location.lng\n",
    "print('The geograpical coordinate of Toronto, Ontario, Canada are {}, {}.'.format(latitude_tr, longitude_tr))"
   ]
  },
  {
   "cell_type": "code",
   "execution_count": 161,
   "metadata": {},
   "outputs": [],
   "source": [
    "# create map of Toronto using latitude and longitude values\n",
    "torontoData = torontoData.dropna()"
   ]
  },
  {
   "cell_type": "code",
   "execution_count": 162,
   "metadata": {},
   "outputs": [
    {
     "data": {
      "text/html": [
       "<div style=\"width:100%;\"><div style=\"position:relative;width:100%;height:0;padding-bottom:60%;\"><iframe src=\"data:text/html;charset=utf-8;base64,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\" style=\"position:absolute;width:100%;height:100%;left:0;top:0;border:none !important;\" allowfullscreen webkitallowfullscreen mozallowfullscreen></iframe></div></div>"
      ],
      "text/plain": [
       "<folium.folium.Map at 0x127566b10>"
      ]
     },
     "execution_count": 162,
     "metadata": {},
     "output_type": "execute_result"
    }
   ],
   "source": [
    "map_tr = folium.Map(location=[latitude_tr, longitude_tr], zoom_start=12)\n",
    "\n",
    "# add markers to map\n",
    "for lat, lng, label in zip(torontoData['Latitude'], torontoData['Longitude'], torontoData['Neighbourhood']):\n",
    "    label = folium.Popup(label, parse_html=True)\n",
    "    folium.CircleMarker(\n",
    "        [lat, lng],\n",
    "        radius=5,\n",
    "        popup=label,\n",
    "        color='red',\n",
    "        fill=True,\n",
    "        fill_color='red',\n",
    "        fill_opacity=0.5).add_to(map_tr)  \n",
    "    \n",
    "map_tr"
   ]
  },
  {
   "cell_type": "markdown",
   "metadata": {},
   "source": [
    "New York City Boroughs from kaggle"
   ]
  },
  {
   "cell_type": "code",
   "execution_count": 233,
   "metadata": {},
   "outputs": [],
   "source": [
    "nyc_gallery=pd.read_csv(\"ART_GALLERY.csv\")\n",
    "nyc_gallery.the_geom = nyc_gallery.the_geom.str.replace(\"POINT\",\"\")\n",
    "nyc_gallery.the_geom = nyc_gallery.the_geom.str.replace(\"(\",\"\")\n",
    "nyc_gallery.the_geom = nyc_gallery.the_geom.str.replace(\")\",\"\")\n",
    "nyc_gallery['lat'] = nyc_gallery['the_geom'].apply( lambda x: x.split(' ')[2] )\n",
    "nyc_gallery['lng'] = nyc_gallery['the_geom'].apply( lambda x: x.split(' ')[1] )\n",
    "nyc_gallery = nyc_gallery.drop(['the_geom'],axis=1)"
   ]
  },
  {
   "cell_type": "code",
   "execution_count": 240,
   "metadata": {},
   "outputs": [
    {
     "data": {
      "text/html": [
       "<div>\n",
       "<style scoped>\n",
       "    .dataframe tbody tr th:only-of-type {\n",
       "        vertical-align: middle;\n",
       "    }\n",
       "\n",
       "    .dataframe tbody tr th {\n",
       "        vertical-align: top;\n",
       "    }\n",
       "\n",
       "    .dataframe thead th {\n",
       "        text-align: right;\n",
       "    }\n",
       "</style>\n",
       "<table border=\"1\" class=\"dataframe\">\n",
       "  <thead>\n",
       "    <tr style=\"text-align: right;\">\n",
       "      <th></th>\n",
       "      <th>NAME</th>\n",
       "      <th>TEL</th>\n",
       "      <th>URL</th>\n",
       "      <th>ADDRESS1</th>\n",
       "      <th>ADDRESS2</th>\n",
       "      <th>CITY</th>\n",
       "      <th>ZIP</th>\n",
       "      <th>lat</th>\n",
       "      <th>lng</th>\n",
       "    </tr>\n",
       "  </thead>\n",
       "  <tbody>\n",
       "    <tr>\n",
       "      <th>7</th>\n",
       "      <td>Pace MacGill Gallery</td>\n",
       "      <td>(212) 759-7999</td>\n",
       "      <td>http://www.pacemacgill.com/exhibitions.html</td>\n",
       "      <td>32 E. 57th St.</td>\n",
       "      <td>9th Fl.</td>\n",
       "      <td>New York</td>\n",
       "      <td>10022</td>\n",
       "      <td>40.76194965113893</td>\n",
       "      <td>-73.97202174911459</td>\n",
       "    </tr>\n",
       "    <tr>\n",
       "      <th>8</th>\n",
       "      <td>Pace Prints &amp; Primitive Gallery</td>\n",
       "      <td>(212) 421-3237</td>\n",
       "      <td>http://www.paceprints.com/</td>\n",
       "      <td>32 E. 57th St.</td>\n",
       "      <td>3rd Fl.</td>\n",
       "      <td>New York</td>\n",
       "      <td>10022</td>\n",
       "      <td>40.76183646853851</td>\n",
       "      <td>-73.97211461855828</td>\n",
       "    </tr>\n",
       "    <tr>\n",
       "      <th>10</th>\n",
       "      <td>Pace Wildenstein</td>\n",
       "      <td>(212) 421-3292</td>\n",
       "      <td>http://www.pacewildenstein.com/uploads/exhibit...</td>\n",
       "      <td>32 E 57th St</td>\n",
       "      <td>Fl 4</td>\n",
       "      <td>New York</td>\n",
       "      <td>10022</td>\n",
       "      <td>40.761886074501135</td>\n",
       "      <td>-73.97207691758459</td>\n",
       "    </tr>\n",
       "    <tr>\n",
       "      <th>26</th>\n",
       "      <td>Peder Bonnier Inc</td>\n",
       "      <td>(646) 638-0878</td>\n",
       "      <td>http://web2.userinstinct.com/30816857-peder-bo...</td>\n",
       "      <td>206 W 23rd St</td>\n",
       "      <td>Fl 4</td>\n",
       "      <td>New York</td>\n",
       "      <td>10011</td>\n",
       "      <td>40.7440599458188</td>\n",
       "      <td>-73.99623914232185</td>\n",
       "    </tr>\n",
       "    <tr>\n",
       "      <th>30</th>\n",
       "      <td>Peter Rose Gallery</td>\n",
       "      <td>(212) 759-8173</td>\n",
       "      <td>http://peterrosegallery.com/</td>\n",
       "      <td>200 E 58th St</td>\n",
       "      <td>Apt 20C</td>\n",
       "      <td>New York</td>\n",
       "      <td>10022</td>\n",
       "      <td>40.760575546804205</td>\n",
       "      <td>-73.96690494675263</td>\n",
       "    </tr>\n",
       "    <tr>\n",
       "      <th>...</th>\n",
       "      <td>...</td>\n",
       "      <td>...</td>\n",
       "      <td>...</td>\n",
       "      <td>...</td>\n",
       "      <td>...</td>\n",
       "      <td>...</td>\n",
       "      <td>...</td>\n",
       "      <td>...</td>\n",
       "      <td>...</td>\n",
       "    </tr>\n",
       "    <tr>\n",
       "      <th>872</th>\n",
       "      <td>Miller Laurence Gallery Inc</td>\n",
       "      <td>(212) 397-3930</td>\n",
       "      <td>http://www.laurencemillergallery.com/</td>\n",
       "      <td>20 W 57th St</td>\n",
       "      <td>Lbby</td>\n",
       "      <td>New York</td>\n",
       "      <td>10019</td>\n",
       "      <td>40.76323164644723</td>\n",
       "      <td>-73.97553261570835</td>\n",
       "    </tr>\n",
       "    <tr>\n",
       "      <th>875</th>\n",
       "      <td>Mip Art Realty Inc</td>\n",
       "      <td>(212) 431-9474</td>\n",
       "      <td>http://www.city-data.com/businesses/578718041-...</td>\n",
       "      <td>83 Mercer St</td>\n",
       "      <td>Fl 5</td>\n",
       "      <td>New York</td>\n",
       "      <td>10012</td>\n",
       "      <td>40.72296987769243</td>\n",
       "      <td>-74.00028349944168</td>\n",
       "    </tr>\n",
       "    <tr>\n",
       "      <th>886</th>\n",
       "      <td>Morales David</td>\n",
       "      <td>(212) 564-2335</td>\n",
       "      <td>http://www.nyc.com/arts__attractions/morales_d...</td>\n",
       "      <td>325 W 38th St</td>\n",
       "      <td>Lbby</td>\n",
       "      <td>New York</td>\n",
       "      <td>10018</td>\n",
       "      <td>40.755395881808944</td>\n",
       "      <td>-73.99280897511609</td>\n",
       "    </tr>\n",
       "    <tr>\n",
       "      <th>887</th>\n",
       "      <td>Morgan Art Consulting</td>\n",
       "      <td>(212) 447-0490</td>\n",
       "      <td>http://morganartconsulting.com/</td>\n",
       "      <td>303 Park Avenue South</td>\n",
       "      <td>#1204</td>\n",
       "      <td>New York</td>\n",
       "      <td>10010</td>\n",
       "      <td>40.74025449638514</td>\n",
       "      <td>-73.98578003114238</td>\n",
       "    </tr>\n",
       "    <tr>\n",
       "      <th>906</th>\n",
       "      <td>Northstar Research Associates Inc</td>\n",
       "      <td>(212) 721-7000</td>\n",
       "      <td>http://goliath.ecnext.com/coms2/product-compin...</td>\n",
       "      <td>215 W 88th St</td>\n",
       "      <td>Apt 8D</td>\n",
       "      <td>New York</td>\n",
       "      <td>10024</td>\n",
       "      <td>40.78956298783739</td>\n",
       "      <td>-73.97484365850636</td>\n",
       "    </tr>\n",
       "  </tbody>\n",
       "</table>\n",
       "<p>111 rows × 9 columns</p>\n",
       "</div>"
      ],
      "text/plain": [
       "                                  NAME             TEL  \\\n",
       "7                 Pace MacGill Gallery  (212) 759-7999   \n",
       "8      Pace Prints & Primitive Gallery  (212) 421-3237   \n",
       "10                    Pace Wildenstein  (212) 421-3292   \n",
       "26                   Peder Bonnier Inc  (646) 638-0878   \n",
       "30                  Peter Rose Gallery  (212) 759-8173   \n",
       "..                                 ...             ...   \n",
       "872        Miller Laurence Gallery Inc  (212) 397-3930   \n",
       "875                 Mip Art Realty Inc  (212) 431-9474   \n",
       "886                      Morales David  (212) 564-2335   \n",
       "887              Morgan Art Consulting  (212) 447-0490   \n",
       "906  Northstar Research Associates Inc  (212) 721-7000   \n",
       "\n",
       "                                                   URL               ADDRESS1  \\\n",
       "7          http://www.pacemacgill.com/exhibitions.html         32 E. 57th St.   \n",
       "8                           http://www.paceprints.com/         32 E. 57th St.   \n",
       "10   http://www.pacewildenstein.com/uploads/exhibit...           32 E 57th St   \n",
       "26   http://web2.userinstinct.com/30816857-peder-bo...          206 W 23rd St   \n",
       "30                        http://peterrosegallery.com/          200 E 58th St   \n",
       "..                                                 ...                    ...   \n",
       "872              http://www.laurencemillergallery.com/           20 W 57th St   \n",
       "875  http://www.city-data.com/businesses/578718041-...           83 Mercer St   \n",
       "886  http://www.nyc.com/arts__attractions/morales_d...          325 W 38th St   \n",
       "887                    http://morganartconsulting.com/  303 Park Avenue South   \n",
       "906  http://goliath.ecnext.com/coms2/product-compin...          215 W 88th St   \n",
       "\n",
       "    ADDRESS2      CITY    ZIP                 lat                 lng  \n",
       "7    9th Fl.  New York  10022   40.76194965113893  -73.97202174911459  \n",
       "8    3rd Fl.  New York  10022   40.76183646853851  -73.97211461855828  \n",
       "10      Fl 4  New York  10022  40.761886074501135  -73.97207691758459  \n",
       "26      Fl 4  New York  10011    40.7440599458188  -73.99623914232185  \n",
       "30   Apt 20C  New York  10022  40.760575546804205  -73.96690494675263  \n",
       "..       ...       ...    ...                 ...                 ...  \n",
       "872     Lbby  New York  10019   40.76323164644723  -73.97553261570835  \n",
       "875     Fl 5  New York  10012   40.72296987769243  -74.00028349944168  \n",
       "886     Lbby  New York  10018  40.755395881808944  -73.99280897511609  \n",
       "887    #1204  New York  10010   40.74025449638514  -73.98578003114238  \n",
       "906   Apt 8D  New York  10024   40.78956298783739  -73.97484365850636  \n",
       "\n",
       "[111 rows x 9 columns]"
      ]
     },
     "execution_count": 240,
     "metadata": {},
     "output_type": "execute_result"
    }
   ],
   "source": [
    "nyc_gallery[nyc_gallery['ADDRESS2'].notna()]"
   ]
  },
  {
   "cell_type": "markdown",
   "metadata": {},
   "source": [
    "It turns out that Address2 is mainly floor number, so not very useful. I decide to drop it. \n",
    "URL is also not useful in this case, so drop"
   ]
  },
  {
   "cell_type": "code",
   "execution_count": 243,
   "metadata": {},
   "outputs": [
    {
     "data": {
      "text/html": [
       "<div>\n",
       "<style scoped>\n",
       "    .dataframe tbody tr th:only-of-type {\n",
       "        vertical-align: middle;\n",
       "    }\n",
       "\n",
       "    .dataframe tbody tr th {\n",
       "        vertical-align: top;\n",
       "    }\n",
       "\n",
       "    .dataframe thead th {\n",
       "        text-align: right;\n",
       "    }\n",
       "</style>\n",
       "<table border=\"1\" class=\"dataframe\">\n",
       "  <thead>\n",
       "    <tr style=\"text-align: right;\">\n",
       "      <th></th>\n",
       "      <th>NAME</th>\n",
       "      <th>TEL</th>\n",
       "      <th>ADDRESS1</th>\n",
       "      <th>CITY</th>\n",
       "      <th>ZIP</th>\n",
       "      <th>lat</th>\n",
       "      <th>lng</th>\n",
       "    </tr>\n",
       "  </thead>\n",
       "  <tbody>\n",
       "    <tr>\n",
       "      <th>0</th>\n",
       "      <td>O'reilly William &amp; Co Ltd</td>\n",
       "      <td>(212) 396-1822</td>\n",
       "      <td>52 E 76th St</td>\n",
       "      <td>New York</td>\n",
       "      <td>10021</td>\n",
       "      <td>40.773800871637576</td>\n",
       "      <td>-73.96273074561996</td>\n",
       "    </tr>\n",
       "    <tr>\n",
       "      <th>1</th>\n",
       "      <td>Organization of Independent Artists - Gallery 402</td>\n",
       "      <td>(212) 219-9213</td>\n",
       "      <td>19 Hudson St.</td>\n",
       "      <td>New York</td>\n",
       "      <td>10013</td>\n",
       "      <td>40.71646850931738</td>\n",
       "      <td>-74.0093857886298</td>\n",
       "    </tr>\n",
       "    <tr>\n",
       "      <th>2</th>\n",
       "      <td>Owen Gallery</td>\n",
       "      <td>(212) 879-2415</td>\n",
       "      <td>19 E 75th St</td>\n",
       "      <td>New York</td>\n",
       "      <td>10021</td>\n",
       "      <td>40.7740008522409</td>\n",
       "      <td>-73.96435178145856</td>\n",
       "    </tr>\n",
       "    <tr>\n",
       "      <th>3</th>\n",
       "      <td>P P O W Gallerie</td>\n",
       "      <td>(212) 647-1044</td>\n",
       "      <td>511 W 25th St</td>\n",
       "      <td>New York</td>\n",
       "      <td>10001</td>\n",
       "      <td>40.74958540084406</td>\n",
       "      <td>-74.00389261044238</td>\n",
       "    </tr>\n",
       "    <tr>\n",
       "      <th>4</th>\n",
       "      <td>P P O W Inc</td>\n",
       "      <td>(212) 941-8642</td>\n",
       "      <td>476 Broome St</td>\n",
       "      <td>New York</td>\n",
       "      <td>10013</td>\n",
       "      <td>40.72290742771331</td>\n",
       "      <td>-74.00176389614576</td>\n",
       "    </tr>\n",
       "    <tr>\n",
       "      <th>...</th>\n",
       "      <td>...</td>\n",
       "      <td>...</td>\n",
       "      <td>...</td>\n",
       "      <td>...</td>\n",
       "      <td>...</td>\n",
       "      <td>...</td>\n",
       "      <td>...</td>\n",
       "    </tr>\n",
       "    <tr>\n",
       "      <th>912</th>\n",
       "      <td>Odyssia Gallery</td>\n",
       "      <td>(212) 486-7338</td>\n",
       "      <td>305 E 61st St</td>\n",
       "      <td>New York</td>\n",
       "      <td>10021</td>\n",
       "      <td>40.7618747512849</td>\n",
       "      <td>-73.96269813635554</td>\n",
       "    </tr>\n",
       "    <tr>\n",
       "      <th>913</th>\n",
       "      <td>Old Print Shop Inc</td>\n",
       "      <td>(212) 683-3950</td>\n",
       "      <td>150 Lexington Ave</td>\n",
       "      <td>New York</td>\n",
       "      <td>10016</td>\n",
       "      <td>40.74367322071215</td>\n",
       "      <td>-73.98194844064098</td>\n",
       "    </tr>\n",
       "    <tr>\n",
       "      <th>914</th>\n",
       "      <td>Omniguard Art Guarantee</td>\n",
       "      <td>(212) 577-9000</td>\n",
       "      <td>115 Broadway</td>\n",
       "      <td>New York</td>\n",
       "      <td>10006</td>\n",
       "      <td>40.708938811665874</td>\n",
       "      <td>-74.0114722358904</td>\n",
       "    </tr>\n",
       "    <tr>\n",
       "      <th>915</th>\n",
       "      <td>One Twenty Eight</td>\n",
       "      <td>(212) 674-0244</td>\n",
       "      <td>128 Rivington St</td>\n",
       "      <td>New York</td>\n",
       "      <td>10002</td>\n",
       "      <td>40.719806519486134</td>\n",
       "      <td>-73.9869130305955</td>\n",
       "    </tr>\n",
       "    <tr>\n",
       "      <th>916</th>\n",
       "      <td>Opera Gallery</td>\n",
       "      <td>(212) 966-6675</td>\n",
       "      <td>115 Spring St</td>\n",
       "      <td>New York</td>\n",
       "      <td>10012</td>\n",
       "      <td>40.72381493757711</td>\n",
       "      <td>-73.99994843596657</td>\n",
       "    </tr>\n",
       "  </tbody>\n",
       "</table>\n",
       "<p>917 rows × 7 columns</p>\n",
       "</div>"
      ],
      "text/plain": [
       "                                                  NAME             TEL  \\\n",
       "0                            O'reilly William & Co Ltd  (212) 396-1822   \n",
       "1    Organization of Independent Artists - Gallery 402  (212) 219-9213   \n",
       "2                                         Owen Gallery  (212) 879-2415   \n",
       "3                                     P P O W Gallerie  (212) 647-1044   \n",
       "4                                          P P O W Inc  (212) 941-8642   \n",
       "..                                                 ...             ...   \n",
       "912                                    Odyssia Gallery  (212) 486-7338   \n",
       "913                                 Old Print Shop Inc  (212) 683-3950   \n",
       "914                            Omniguard Art Guarantee  (212) 577-9000   \n",
       "915                                   One Twenty Eight  (212) 674-0244   \n",
       "916                                      Opera Gallery  (212) 966-6675   \n",
       "\n",
       "              ADDRESS1      CITY    ZIP                 lat  \\\n",
       "0         52 E 76th St  New York  10021  40.773800871637576   \n",
       "1        19 Hudson St.  New York  10013   40.71646850931738   \n",
       "2         19 E 75th St  New York  10021    40.7740008522409   \n",
       "3        511 W 25th St  New York  10001   40.74958540084406   \n",
       "4        476 Broome St  New York  10013   40.72290742771331   \n",
       "..                 ...       ...    ...                 ...   \n",
       "912      305 E 61st St  New York  10021    40.7618747512849   \n",
       "913  150 Lexington Ave  New York  10016   40.74367322071215   \n",
       "914       115 Broadway  New York  10006  40.708938811665874   \n",
       "915   128 Rivington St  New York  10002  40.719806519486134   \n",
       "916      115 Spring St  New York  10012   40.72381493757711   \n",
       "\n",
       "                    lng  \n",
       "0    -73.96273074561996  \n",
       "1     -74.0093857886298  \n",
       "2    -73.96435178145856  \n",
       "3    -74.00389261044238  \n",
       "4    -74.00176389614576  \n",
       "..                  ...  \n",
       "912  -73.96269813635554  \n",
       "913  -73.98194844064098  \n",
       "914   -74.0114722358904  \n",
       "915   -73.9869130305955  \n",
       "916  -73.99994843596657  \n",
       "\n",
       "[917 rows x 7 columns]"
      ]
     },
     "execution_count": 243,
     "metadata": {},
     "output_type": "execute_result"
    }
   ],
   "source": [
    "nyc_gallery.drop(['ADDRESS2', 'URL'], axis=1)"
   ]
  },
  {
   "cell_type": "code",
   "execution_count": 244,
   "metadata": {},
   "outputs": [
    {
     "data": {
      "text/plain": [
       "North York          24\n",
       "Downtown Toronto    19\n",
       "Scarborough         17\n",
       "Etobicoke           11\n",
       "Central Toronto      9\n",
       "West Toronto         6\n",
       "East York            5\n",
       "York                 5\n",
       "East Toronto         5\n",
       "Queen's Park         1\n",
       "Mississauga          1\n",
       "Name: Borough, dtype: int64"
      ]
     },
     "execution_count": 244,
     "metadata": {},
     "output_type": "execute_result"
    }
   ],
   "source": [
    "df3.Borough.value_counts()"
   ]
  },
  {
   "cell_type": "code",
   "execution_count": null,
   "metadata": {},
   "outputs": [],
   "source": []
  }
 ],
 "metadata": {
  "kernelspec": {
   "display_name": "Python 3",
   "language": "python",
   "name": "python3"
  },
  "language_info": {
   "codemirror_mode": {
    "name": "ipython",
    "version": 3
   },
   "file_extension": ".py",
   "mimetype": "text/x-python",
   "name": "python",
   "nbconvert_exporter": "python",
   "pygments_lexer": "ipython3",
   "version": "3.7.4"
  }
 },
 "nbformat": 4,
 "nbformat_minor": 2
}
